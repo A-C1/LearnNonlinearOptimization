{
 "cells": [
  {
   "cell_type": "code",
   "execution_count": 12,
   "metadata": {},
   "outputs": [],
   "source": [
    "using LinearAlgebra\n",
    "using CairoMakie\n",
    "using SparseArrays\n",
    "using Symbolics"
   ]
  },
  {
   "cell_type": "code",
   "execution_count": 13,
   "metadata": {},
   "outputs": [
    {
     "data": {
      "text/plain": [
       "3-element Vector{Float64}:\n",
       " 1.0\n",
       " 1.0\n",
       " 1.0"
      ]
     },
     "metadata": {},
     "output_type": "display_data"
    }
   ],
   "source": [
    "# Test points to test all functions\n",
    "x0 = [-1.71, 1.59, 1.82, -0.763, -0.763]\n",
    "λ0 = ones(3)"
   ]
  },
  {
   "cell_type": "code",
   "execution_count": 14,
   "metadata": {},
   "outputs": [
    {
     "data": {
      "text/plain": [
       "5×5 Matrix{Float64}:\n",
       " -76.5943     -66.6435    -0.0976501   0.232927   0.232927\n",
       " -66.6435     -57.5232     0.10502    -0.250506  -0.250506\n",
       "  -0.0976501    0.10502    0.140529   -0.218849  -0.218849\n",
       "   0.232927    -0.250506  -0.218849    0.799578   0.522025\n",
       "   0.232927    -0.250506  -0.218849    0.522025   0.799578"
      ]
     },
     "metadata": {},
     "output_type": "display_data"
    }
   ],
   "source": [
    "# Function to be optimized\n",
    "function f(x)\n",
    "    return exp(x[1]*x[2]*x[3]*x[4]*x[5]) - ((x[1]^3 + x[2]^3 + 1)^2) / 2\n",
    "end\n",
    "\n",
    "# Gradient of the function to be optimized\n",
    "function grad_f(x::Vector{T}) where T <: Number\n",
    "    ex1 = exp(x[1]*x[2]*x[3]*x[4]*x[5])\n",
    "    ex2 = (x[1]^3 + x[2]^3 + 1)\n",
    "    grad_f = zeros(5)\n",
    "    grad_f[1] = exp(x[1]*x[2]*x[3]*x[4]*x[5])*x[2]*x[3]*x[4]*x[5] - (3//2)*(2 + 2(x[1]^3) + 2(x[2]^3))*(x[1]^2)\n",
    "    grad_f[2] = exp(x[1]*x[2]*x[3]*x[4]*x[5])*x[1]*x[3]*x[4]*x[5] - (3//2)*(2 + 2(x[1]^3) + 2(x[2]^3))*(x[2]^2)\n",
    "    grad_f[3] = exp(x[1]*x[2]*x[3]*x[4]*x[5])*x[1]*x[2]*x[4]*x[5]\n",
    "    grad_f[4] = exp(x[1]*x[2]*x[3]*x[4]*x[5])*x[1]*x[2]*x[3]*x[5]\n",
    "    grad_f[5] = exp(x[1]*x[2]*x[3]*x[4]*x[5])*x[1]*x[2]*x[3]*x[4]\n",
    "    return grad_f\n",
    "end\n",
    "\n",
    "function hess_f(x::Vector{T}) where T <: Number\n",
    "    hess_f = zeros(5, 5)\n",
    "    hess_f[1,1] = 2((-3//1) - (3//1)*(x[1]^3) - (3//1)*(x[2]^3))*x[1] + (x[2]^2)*(x[3]^2)*(x[4]^2)*(x[5]^2)*exp(x[1]*x[2]*x[3]*x[4]*x[5]) - (9//1)*(x[1]^4)\n",
    "    hess_f[1,2] = exp(x[1]*x[2]*x[3]*x[4]*x[5])*x[3]*x[4]*x[5] + (x[3]^2)*(x[4]^2)*(x[5]^2)*exp(x[1]*x[2]*x[3]*x[4]*x[5])*x[1]*x[2] - (9//1)*(x[1]^2)*(x[2]^2)\n",
    "    hess_f[1,3] = exp(x[1]*x[2]*x[3]*x[4]*x[5])*x[2]*x[4]*x[5] + (x[2]^2)*(x[4]^2)*(x[5]^2)*exp(x[1]*x[2]*x[3]*x[4]*x[5])*x[1]*x[3]\n",
    "    hess_f[1,4] = exp(x[1]*x[2]*x[3]*x[4]*x[5])*x[2]*x[3]*x[5] + (x[2]^2)*(x[3]^2)*(x[5]^2)*exp(x[1]*x[2]*x[3]*x[4]*x[5])*x[1]*x[4]\n",
    "    hess_f[1,5] = exp(x[1]*x[2]*x[3]*x[4]*x[5])*x[2]*x[3]*x[4] + (x[2]^2)*(x[3]^2)*(x[4]^2)*exp(x[1]*x[2]*x[3]*x[4]*x[5])*x[1]*x[5]\n",
    "    hess_f[2,1] = exp(x[1]*x[2]*x[3]*x[4]*x[5])*x[3]*x[4]*x[5] + (x[3]^2)*(x[4]^2)*(x[5]^2)*exp(x[1]*x[2]*x[3]*x[4]*x[5])*x[1]*x[2] - (9//1)*(x[1]^2)*(x[2]^2)\n",
    "    hess_f[2,2] = 2((-3//1) - (3//1)*(x[1]^3) - (3//1)*(x[2]^3))*x[2] + (x[1]^2)*(x[3]^2)*(x[4]^2)*(x[5]^2)*exp(x[1]*x[2]*x[3]*x[4]*x[5]) - (9//1)*(x[2]^4)\n",
    "    hess_f[2,3] = exp(x[1]*x[2]*x[3]*x[4]*x[5])*x[1]*x[4]*x[5] + (x[1]^2)*(x[4]^2)*(x[5]^2)*exp(x[1]*x[2]*x[3]*x[4]*x[5])*x[2]*x[3]\n",
    "    hess_f[2,4] = exp(x[1]*x[2]*x[3]*x[4]*x[5])*x[1]*x[3]*x[5] + (x[1]^2)*(x[3]^2)*(x[5]^2)*exp(x[1]*x[2]*x[3]*x[4]*x[5])*x[2]*x[4]\n",
    "    hess_f[2,5] = exp(x[1]*x[2]*x[3]*x[4]*x[5])*x[1]*x[3]*x[4] + (x[1]^2)*(x[3]^2)*(x[4]^2)*exp(x[1]*x[2]*x[3]*x[4]*x[5])*x[2]*x[5]\n",
    "    hess_f[3,1] = exp(x[1]*x[2]*x[3]*x[4]*x[5])*x[2]*x[4]*x[5] + (x[2]^2)*(x[4]^2)*(x[5]^2)*exp(x[1]*x[2]*x[3]*x[4]*x[5])*x[1]*x[3]\n",
    "    hess_f[3,2] = exp(x[1]*x[2]*x[3]*x[4]*x[5])*x[1]*x[4]*x[5] + (x[1]^2)*(x[4]^2)*(x[5]^2)*exp(x[1]*x[2]*x[3]*x[4]*x[5])*x[2]*x[3]\n",
    "    hess_f[3,3] = (x[1]^2)*(x[2]^2)*(x[4]^2)*(x[5]^2)*exp(x[1]*x[2]*x[3]*x[4]*x[5])\n",
    "    hess_f[3,4] = exp(x[1]*x[2]*x[3]*x[4]*x[5])*x[1]*x[2]*x[5] + (x[1]^2)*(x[2]^2)*(x[5]^2)*exp(x[1]*x[2]*x[3]*x[4]*x[5])*x[3]*x[4]\n",
    "    hess_f[3,5] = exp(x[1]*x[2]*x[3]*x[4]*x[5])*x[1]*x[2]*x[4] + (x[1]^2)*(x[2]^2)*(x[4]^2)*exp(x[1]*x[2]*x[3]*x[4]*x[5])*x[3]*x[5]\n",
    "    hess_f[4,1] = exp(x[1]*x[2]*x[3]*x[4]*x[5])*x[2]*x[3]*x[5] + (x[2]^2)*(x[3]^2)*(x[5]^2)*exp(x[1]*x[2]*x[3]*x[4]*x[5])*x[1]*x[4]\n",
    "    hess_f[4,2] = exp(x[1]*x[2]*x[3]*x[4]*x[5])*x[1]*x[3]*x[5] + (x[1]^2)*(x[3]^2)*(x[5]^2)*exp(x[1]*x[2]*x[3]*x[4]*x[5])*x[2]*x[4]\n",
    "    hess_f[4,3] = exp(x[1]*x[2]*x[3]*x[4]*x[5])*x[1]*x[2]*x[5] + (x[1]^2)*(x[2]^2)*(x[5]^2)*exp(x[1]*x[2]*x[3]*x[4]*x[5])*x[3]*x[4]\n",
    "    hess_f[4,4] = (x[1]^2)*(x[2]^2)*(x[3]^2)*(x[5]^2)*exp(x[1]*x[2]*x[3]*x[4]*x[5])\n",
    "    hess_f[4,5] = exp(x[1]*x[2]*x[3]*x[4]*x[5])*x[1]*x[2]*x[3] + (x[1]^2)*(x[2]^2)*(x[3]^2)*exp(x[1]*x[2]*x[3]*x[4]*x[5])*x[4]*x[5]\n",
    "    hess_f[5,1] = exp(x[1]*x[2]*x[3]*x[4]*x[5])*x[2]*x[3]*x[4] + (x[2]^2)*(x[3]^2)*(x[4]^2)*exp(x[1]*x[2]*x[3]*x[4]*x[5])*x[1]*x[5]\n",
    "    hess_f[5,2] = exp(x[1]*x[2]*x[3]*x[4]*x[5])*x[1]*x[3]*x[4] + (x[1]^2)*(x[3]^2)*(x[4]^2)*exp(x[1]*x[2]*x[3]*x[4]*x[5])*x[2]*x[5]\n",
    "    hess_f[5,3] = exp(x[1]*x[2]*x[3]*x[4]*x[5])*x[1]*x[2]*x[4] + (x[1]^2)*(x[2]^2)*(x[4]^2)*exp(x[1]*x[2]*x[3]*x[4]*x[5])*x[3]*x[5]\n",
    "    hess_f[5,4] = exp(x[1]*x[2]*x[3]*x[4]*x[5])*x[1]*x[2]*x[3] + (x[1]^2)*(x[2]^2)*(x[3]^2)*exp(x[1]*x[2]*x[3]*x[4]*x[5])*x[4]*x[5]\n",
    "    hess_f[5,5] = (x[1]^2)*(x[2]^2)*(x[3]^2)*(x[4]^2)*exp(x[1]*x[2]*x[3]*x[4]*x[5])\n",
    "    return hess_f\n",
    "end\n",
    "\n",
    "f(x0)\n",
    "grad_f(x0)\n",
    "hess_f(x0)"
   ]
  },
  {
   "cell_type": "code",
   "execution_count": 15,
   "metadata": {},
   "outputs": [
    {
     "data": {
      "text/plain": [
       "hess_g3 (generic function with 1 method)"
      ]
     },
     "metadata": {},
     "output_type": "display_data"
    }
   ],
   "source": [
    "#------------------------------------------------------\n",
    "# Constraints and its Jacobians and Hessians\n",
    "#------------------------------------------------------\n",
    "# Function to be optimized\n",
    "function g(x::Vector{T}) where T\n",
    "    v = zeros(3)\n",
    "    v[1] = x[1]^2 + x[2]^2 + x[3]^2 + x[4]^2 + x[5]^2 - 10\n",
    "    v[2] = x[2]*x[3] - 5*x[4]*x[5]\n",
    "    v[2] = x[1]^3 + x[2]^3 + 1\n",
    "    return v\n",
    "end\n",
    "\n",
    "function jac_g(x::Vector{T}) where T\n",
    "    jac_g = zeros(3, 5)\n",
    "    jac_g[1, 1] = 2*x[1] \n",
    "    jac_g[1, 2] = 2*x[2]\n",
    "    jac_g[1, 3] = 2*x[3]\n",
    "    jac_g[1, 4] = 2*x[4]\n",
    "    jac_g[1, 5] = 2*x[5]\n",
    "    jac_g[2, 1] = 0\n",
    "    jac_g[2, 2] = x[3]\n",
    "    jac_g[2, 3] = x[2]\n",
    "    jac_g[2, 4] = -5*x[5]\n",
    "    jac_g[2, 5] = -5*x[4]\n",
    "    jac_g[3, 1] = 3*x[1]^2\n",
    "    jac_g[3, 2] = 3*x[2]^2\n",
    "    jac_g[3, 3] = 0\n",
    "    jac_g[3, 4] = 0\n",
    "    jac_g[3, 5] = 0\n",
    "    return jac_g\n",
    "end\n",
    "\n",
    "function jac_g_sparse(x::Vector{T}) where T\n",
    "    return [2*x[1], 2*x[2], 2*x[3], 2*x[4], 2*x[5], x[3], x[2], -5*x[5], -5*x[4],\n",
    "            3*x[1]^2, 3*x[2]^2]\n",
    "end\n",
    "rindg = [1 1 1 1 1 2 2 2 2 3 3]\n",
    "cindg = [1 2 3 4 5 2 3 4 5 1 2]\n",
    "\n",
    "function hess_g1(x::Vector{T}) where T\n",
    "    return Matrix{Float64}(2.0I, 5, 5)\n",
    "end\n",
    "\n",
    "function hess_g2(x::Vector{T}) where T\n",
    "    return  [0  0  0   0   0;\n",
    "             0  0  1   0   0;\n",
    "             0  1  0   0   0;\n",
    "             0  0  0   0  -5;\n",
    "             0  0  0  -5   0]\n",
    "end\n",
    "\n",
    "function hess_g3(x::Vector{T}) where T\n",
    "    hess_g3 = zeros(5,5)\n",
    "    hess_g3[1, 1] = 6x[1]\n",
    "    hess_g3[2, 2] = 6x[2]\n",
    "    return hess_g3\n",
    "end"
   ]
  },
  {
   "cell_type": "code",
   "execution_count": 16,
   "metadata": {},
   "outputs": [
    {
     "data": {
      "text/plain": [
       "5×5 Matrix{Float64}:\n",
       " -68.3343     -66.6435    -0.0976501   0.232927   0.232927\n",
       " -66.6435     -69.0632    -0.89498    -0.250506  -0.250506\n",
       "  -0.0976501   -0.89498   -1.85947    -0.218849  -0.218849\n",
       "   0.232927    -0.250506  -0.218849   -1.20042    5.52202\n",
       "   0.232927    -0.250506  -0.218849    5.52202   -1.20042"
      ]
     },
     "metadata": {},
     "output_type": "display_data"
    }
   ],
   "source": [
    "function hess_l(x::Vector{T}, λ::Vector{T}) where T\n",
    "    return hess_f(x) - λ[1]*hess_g1(x) - λ[2]*hess_g2(x) - λ[3]*hess_g3(x)\n",
    "end\n",
    "\n",
    "hess_l(x0, λ0)"
   ]
  },
  {
   "cell_type": "code",
   "execution_count": 17,
   "metadata": {},
   "outputs": [
    {
     "data": {
      "text/plain": [
       "8×5 Matrix{Float64}:\n",
       " 76.5943     66.6435     0.0976501  -0.232927  -0.232927\n",
       " 66.6435     57.5232    -0.10502     0.250506   0.250506\n",
       "  0.0976501  -0.10502   -0.140529    0.218849   0.218849\n",
       " -0.232927    0.250506   0.218849   -0.799578  -0.522025\n",
       " -0.232927    0.250506   0.218849   -0.522025  -0.799578\n",
       "  3.42       -3.18      -3.64        1.526      1.526\n",
       " -0.0        -1.82      -1.59       -3.815     -3.815\n",
       " -8.7723     -7.5843    -0.0        -0.0       -0.0"
      ]
     },
     "metadata": {},
     "output_type": "display_data"
    }
   ],
   "source": [
    "function kkt_mat(x::Vector{T}, λ::Vector{T}) where T\n",
    "    return [hess_l(x, λ) -jac_g(x)';\n",
    "            jac_g(x)      I(3)]\n",
    "end\n",
    "\n",
    "function kkt_vec(x::Vector{T}) where T\n",
    "    return [-grad_f(x) ; -g(x)]\n",
    "end\n",
    "A = kkt_mat(x0, λ0)\n",
    "kkt_vec_jac(x) = [-hess_f(x); -jac_g(x)]\n",
    "kkt_vec_jac(x0)"
   ]
  },
  {
   "cell_type": "code",
   "execution_count": 18,
   "metadata": {},
   "outputs": [
    {
     "data": {
      "text/plain": [
       "0.08548261157111248"
      ]
     },
     "metadata": {},
     "output_type": "display_data"
    }
   ],
   "source": [
    "# Implementation follows Boyd\n",
    "function back_track(f_m, f_m_grad, x, p; β = 0.1, α = 0.3)\n",
    "    t = 1\n",
    "    while (f_m(x + t*p) > f_m(x) + α*t*f_m_grad(x)'*p)\n",
    "        t = β*t\n",
    "    end\n",
    "    return t\n",
    "end\n",
    "\n",
    "# write the function to be used for line search\n",
    "f_m(x) = sum(kkt_vec(x) .* kkt_vec(x)) / 2\n",
    "f_m_grad(x) = kkt_vec_jac(x)'*kkt_vec(x)\n",
    "f_m(x0)\n"
   ]
  },
  {
   "cell_type": "code",
   "execution_count": 19,
   "metadata": {},
   "outputs": [],
   "source": [
    "iter_new = 0\n",
    "n = length(x0) + length(λ0)\n",
    "\n",
    "max_iter = 500\n",
    "tol = 1e-2\n",
    "alpha0 = 1\n",
    "iter_val = 1\n",
    "\n",
    "for i=1:max_iter\n",
    "    iter_val = i\n",
    "    global λ0, x0\n",
    "    A = kkt_mat(x0, λ0) \n",
    "    b = kkt_vec(x0)\n",
    "\n",
    "    delta_x0 = A \\ b\n",
    "\n",
    "    alpha0 =  back_track(f_m, f_m_grad, x0, delta_x0[1:length(x0)])\n",
    "    \n",
    "    x0 = x0 + alpha0*delta_x0[1:length(x0)]\n",
    "    λ0 = alpha0*delta_x0[length(x0)+1:end]\n",
    "\n",
    "    if norm(grad_f(x0))^2 < tol\n",
    "        break\n",
    "    end\n",
    "end\n"
   ]
  },
  {
   "cell_type": "code",
   "execution_count": 20,
   "metadata": {},
   "outputs": [
    {
     "data": {
      "text/plain": [
       "5-element Vector{Float64}:\n",
       " -1.7094410837898981\n",
       "  1.586859067640408\n",
       "  1.82333488158231\n",
       " -0.7629612341569375\n",
       " -0.7629612341569375"
      ]
     },
     "metadata": {},
     "output_type": "display_data"
    }
   ],
   "source": [
    "x0\n"
   ]
  },
  {
   "cell_type": "code",
   "execution_count": 21,
   "metadata": {},
   "outputs": [
    {
     "data": {
      "text/plain": [
       "500"
      ]
     },
     "metadata": {},
     "output_type": "display_data"
    }
   ],
   "source": [
    "iter_val"
   ]
  },
  {
   "cell_type": "code",
   "execution_count": 22,
   "metadata": {},
   "outputs": [
    {
     "data": {
      "text/plain": [
       "1.000000000000001e-16"
      ]
     },
     "metadata": {},
     "output_type": "display_data"
    }
   ],
   "source": [
    "λ0\n",
    "alpha0"
   ]
  }
 ],
 "metadata": {
  "kernelspec": {
   "display_name": "Julia 1.9.0-beta2",
   "language": "julia",
   "name": "julia-1.9"
  },
  "language_info": {
   "file_extension": ".jl",
   "mimetype": "application/julia",
   "name": "julia",
   "version": "1.9.0-beta2"
  },
  "orig_nbformat": 4
 },
 "nbformat": 4,
 "nbformat_minor": 2
}
